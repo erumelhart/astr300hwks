{
 "cells": [
  {
   "cell_type": "markdown",
   "metadata": {},
   "source": [
    "# Erin Rumelhart - Protect Earth"
   ]
  },
  {
   "cell_type": "markdown",
   "metadata": {},
   "source": [
    "The goal of this project is to use your Astro 300 python programming skills to answer the 3 questions below.\n",
    "\n",
    "Your aim is to:\n",
    "\n",
    "- Create a well commmented python notebook that shows your programming.\n",
    "- Keep to the class style guide.\n",
    "- Do not hard code any common physical constants.\n",
    "- Easy to read and neat output that **clearly** shows the answers to the questions.\n",
    "- There should be no calculations outside of the `class` definition.\n",
    "\n",
    "The starting point is the dataset **`PHA.cvs`** that contains data for 10 objects classified as potentially hazardous asteroids."
   ]
  },
  {
   "cell_type": "code",
   "execution_count": 2,
   "metadata": {
    "collapsed": true
   },
   "outputs": [],
   "source": [
    "import numpy as np\n",
    "import pandas as pd\n",
    "\n",
    "from astropy.table import QTable\n",
    "from astropy import units as u\n",
    "from astropy import constants as const"
   ]
  },
  {
   "cell_type": "code",
   "execution_count": 76,
   "metadata": {},
   "outputs": [],
   "source": [
    "class SpaceRock(object):\n",
    "    \n",
    "    \"\"\"Container for Asteroids\"\"\"\n",
    "    \n",
    "    def __init__(self, name = None, ab_mag = None, albedo = None, \n",
    "                 semi_major= None, ecc = None):\n",
    "        \n",
    "        \"\"\"\n",
    "        Parameters\n",
    "        ----------\n",
    "        name : string\n",
    "            Name of the target\n",
    "        ab_mag : array-like\n",
    "            Absolute Magnitude of each Asteroid\n",
    "        albedo : array-like\n",
    "            Albedo of each Asteroid\n",
    "        semi_major : array-like\n",
    "            Semi Major Axis of each Asteroid in AU\n",
    "        ecc : array-like\n",
    "            Eccentricity of each Asteroid\n",
    "        \"\"\"\n",
    "        \n",
    "        self.name = name\n",
    "        self.ab_mag = ab_mag\n",
    "        self.albedo = albedo\n",
    "        self.semi_major = semi_major\n",
    "        self.ecc = ecc\n",
    "        \n",
    "    def diameter(self):\n",
    "        \"\"\"\n",
    "        Determine the diameter (in km) of the Potentially Hazardous Asteroids\n",
    "        \"\"\"\n",
    "        result = (1329.0 / np.sqrt(self.albedo)) * (10 ** (-0.2 * self.ab_mag))\n",
    "        return result * u.km\n",
    "    \n",
    "    def pha_speed(self):      \n",
    "        \"\"\"\n",
    "        Determine the speed (in km/s) of the Potentially Hazardous Asteroids\n",
    "        \"\"\"\n",
    "        result = np.sqrt(const.G * const.M_sun * ((2 / (1 * u.AU)) - (1 / (self.semi_major * u.AU))))\n",
    "        return result.to(u.km / u.s)\n",
    "    \n",
    "    def encounter_vel(self):     \n",
    "        \"\"\"\n",
    "        Determine the encounter velocity (in km/s) of the Potentially Hazardous Asteroids\n",
    "        \"\"\"\n",
    "        result = self.pha_speed() - (30 * (u.km / u.s))\n",
    "        return result\n",
    "    \n",
    "    def impact_vel(self):            \n",
    "        \"\"\"\n",
    "        Determine the impact velocity (in km/s) of the Potentially Hazardous Asteroids\n",
    "        \"\"\"\n",
    "        result = np.sqrt((self.encounter_vel()**2 + (11.2 * (u.km / u.s))**2))\n",
    "        return result\n",
    "    \n",
    "    def mass(self):      \n",
    "        \"\"\"\n",
    "        Determine the mass (in kg) of the Potentially Hazardous Asteroids\n",
    "        \"\"\"\n",
    "        result = ((3000 * (u.kg / u.m**3)) * (1/6) * np.pi * self.diameter()**3).decompose()\n",
    "        return result\n",
    "    \n",
    "    TNT_tons = u.def_unit('millions of tons of TNT', 4.18e9 * u.J)\n",
    "    \n",
    "    def pha_impact_engy(self):      \n",
    "        \"\"\"\n",
    "        Determine the impact energy (in millions of tons of TNT) of the Potentially Hazardous Asteroids\n",
    "        \"\"\"\n",
    "        result = (((1 / 2) * (self.mass()) * (self.impact_vel()**2)) / 1e6).to(u.J)\n",
    "        return result.to(self.TNT_tons)\n",
    "    \n",
    "    def potential_engy(self):      \n",
    "        \"\"\"\n",
    "        Determine the potential energy (dimensionless) of the Potentially Hazardous Asteroids\n",
    "        \"\"\"\n",
    "        result = (((6 / 5) * ((const.G * self.mass()**2) / self.diameter())) / (self.TNT_tons)).decompose()\n",
    "        return result"
   ]
  },
  {
   "cell_type": "markdown",
   "metadata": {},
   "source": [
    "---\n",
    "\n",
    "# There should only be calls to the SpaceRock class below this line \n",
    "# (and formatting)\n",
    "\n",
    "---"
   ]
  },
  {
   "cell_type": "markdown",
   "metadata": {},
   "source": [
    "## 0 - Read the dataset `PHA.csv` and call `SpaceRock`"
   ]
  },
  {
   "cell_type": "code",
   "execution_count": 77,
   "metadata": {},
   "outputs": [
    {
     "name": "stdout",
     "output_type": "stream",
     "text": [
      "       Name        a   ecc    H    A  \n",
      "----------------- ---- ---- ----- ----\n",
      "           Icarus 1.08 0.83  16.9 1.51\n",
      "       Geographos 1.25 0.34  15.6 0.33\n",
      "           Apollo 1.47 0.56 16.25 0.25\n",
      "            Midas 1.78 0.65  15.2 0.25\n",
      "           Adonis 1.87 0.76  18.8 0.25\n",
      "         Phaethon 1.27 0.89  14.6 0.11\n",
      "         Dionysus  2.2 0.54  16.4 0.16\n",
      "Wilson-Harrington 2.64 0.62 15.99 0.05\n",
      "           Vishnu 1.06 0.44  18.4 0.52\n",
      "         Toutatis 2.53 0.63  15.3 0.25\n"
     ]
    }
   ],
   "source": [
    "PHA_table = QTable.read('PHA.csv', format='ascii.csv')\n",
    "print(PHA_table)\n",
    "\n",
    "my_name = PHA_table['Name']\n",
    "my_ab_mag = PHA_table['H']\n",
    "my_albedo = PHA_table['A']\n",
    "my_semi_major = PHA_table['a']\n",
    "my_ecc = PHA_table['ecc']\n",
    "\n",
    "more_rocks = (SpaceRock(name=my_name, ecc=my_ecc, semi_major=my_semi_major,\n",
    "                       ab_mag=my_ab_mag, albedo=my_albedo))"
   ]
  },
  {
   "cell_type": "markdown",
   "metadata": {},
   "source": [
    "## 1 - Determine the speed of each of the PHAs at r = 1 AU.\n",
    "\n",
    "\n",
    "* Make sure you use units.\n",
    "* Express your answer SI units with 2 digits after the decimal.\n",
    "* The output should be a series of lines like:\n",
    "  * `The speed of NAME at 1 AU is VALUE UNIT.` "
   ]
  },
  {
   "cell_type": "code",
   "execution_count": 78,
   "metadata": {},
   "outputs": [
    {
     "name": "stdout",
     "output_type": "stream",
     "text": [
      "The speed of Icarus at 1 AU is 30.87 km / s.\n",
      "The speed of Geographos at 1 AU is 32.63 km / s.\n",
      "The speed of Apollo at 1 AU is 34.22 km / s.\n",
      "The speed of Midas at 1 AU is 35.72 km / s.\n",
      "The speed of Adonis at 1 AU is 36.05 km / s.\n",
      "The speed of Phaethon at 1 AU is 32.80 km / s.\n",
      "The speed of Dionysus at 1 AU is 37.03 km / s.\n",
      "The speed of Wilson-Harrington at 1 AU is 37.92 km / s.\n",
      "The speed of Vishnu at 1 AU is 30.62 km / s.\n",
      "The speed of Toutatis at 1 AU is 37.73 km / s.\n"
     ]
    }
   ],
   "source": [
    "for idx, value in enumerate(more_rocks.pha_speed()):\n",
    "    \n",
    "    rock_name = more_rocks.name[idx]\n",
    "    \n",
    "    string = \"The speed of {0} at 1 AU is {1:.2f}.\".format(rock_name, value)\n",
    "    \n",
    "    print(string)"
   ]
  },
  {
   "cell_type": "markdown",
   "metadata": {},
   "source": [
    "## 2 - Determine the kinetic energy each PHA whould have impact the surface of the Earth\n",
    "\n",
    "- Express your answer in million of tons of TNT with 1 digit after the decimal\n",
    "- 1 ton TNT $= 4.18 \\times 10^9$ J.\n",
    "* The output should be a series of lines like:\n",
    "  * `The kinetic energy of NAME hitting the Earth is VALUE UNIT.` "
   ]
  },
  {
   "cell_type": "code",
   "execution_count": 79,
   "metadata": {},
   "outputs": [
    {
     "name": "stdout",
     "output_type": "stream",
     "text": [
      "The kinetic energy of Icarus hitting the Earth is 2173.0 millions of tons of TNT.\n",
      "The kinetic energy of Geographos hitting the Earth is 134406.7 millions of tons of TNT.\n",
      "The kinetic energy of Apollo hitting the Earth is 89862.4 millions of tons of TNT.\n",
      "The kinetic energy of Midas hitting the Earth is 423300.9 millions of tons of TNT.\n",
      "The kinetic energy of Adonis hitting the Earth is 3001.4 millions of tons of TNT.\n",
      "The kinetic energy of Phaethon hitting the Earth is 2799844.2 millions of tons of TNT.\n",
      "The kinetic energy of Dionysus hitting the Earth is 174142.4 millions of tons of TNT.\n",
      "The kinetic energy of Wilson-Harrington hitting the Earth is 1891116.7 millions of tons of TNT.\n",
      "The kinetic energy of Vishnu hitting the Earth is 1349.7 millions of tons of TNT.\n",
      "The kinetic energy of Toutatis hitting the Earth is 431749.1 millions of tons of TNT.\n"
     ]
    }
   ],
   "source": [
    "for idx, value in enumerate(more_rocks.pha_impact_engy()):\n",
    "    \n",
    "    rock_name = more_rocks.name[idx]\n",
    "    \n",
    "    string = \"The kinetic energy of {0} hitting the Earth is {1:.1f}.\".format(rock_name,value)\n",
    "    \n",
    "    print(string)"
   ]
  },
  {
   "cell_type": "markdown",
   "metadata": {},
   "source": [
    "## 3 - Determine how many 1 ton nuclear weapons will be needed to destroy each of the PHAs.\n",
    "\n",
    "- Assume $\\rho$ = 3,000 kg/m$^3$\n",
    "- Express your answer in the number of 1 ton weapons with 1 digit after the decimal\n",
    "* The output should be a series of lines like:\n",
    "  * `It would take VALUE 1 ton nuclear weaponds to destroy NAME.` "
   ]
  },
  {
   "cell_type": "code",
   "execution_count": 80,
   "metadata": {},
   "outputs": [
    {
     "name": "stdout",
     "output_type": "stream",
     "text": [
      "It would take 0.9 1 ton nuclear weapons to destroy Icarus.\n",
      "It would take 787.0 1 ton nuclear weapons to destroy Geographos.\n",
      "It would take 352.7 1 ton nuclear weapons to destroy Apollo.\n",
      "It would take 3957.4 1 ton nuclear weapons to destroy Midas.\n",
      "It would take 1.0 1 ton nuclear weapons to destroy Adonis.\n",
      "It would take 122681.6 1 ton nuclear weapons to destroy Phaethon.\n",
      "It would take 762.0 1 ton nuclear weapons to destroy Dionysus.\n",
      "It would take 35878.6 1 ton nuclear weapons to destroy Wilson-Harrington.\n",
      "It would take 0.4 1 ton nuclear weapons to destroy Vishnu.\n",
      "It would take 3143.5 1 ton nuclear weapons to destroy Toutatis.\n"
     ]
    }
   ],
   "source": [
    "for idx, value in enumerate(more_rocks.potential_engy()):\n",
    "    \n",
    "    rock_name = more_rocks.name[idx]\n",
    "    \n",
    "    string = \"It would take {0:.1f} 1 ton nuclear weapons to destroy {1}.\".format(value,rock_name)\n",
    "    \n",
    "    print(string)"
   ]
  },
  {
   "cell_type": "markdown",
   "metadata": {},
   "source": [
    "## Due Tue Oct 31 - 5pm\n",
    "- `Make sure to change the filename to your name!`\n",
    "- `Make sure to change the Title to your name!`\n",
    "- `File -> Download as -> HTML (.html)`\n",
    "- `upload your .html and .ipynb file to the class Canvas page`  "
   ]
  },
  {
   "cell_type": "markdown",
   "metadata": {},
   "source": [
    "---"
   ]
  },
  {
   "cell_type": "markdown",
   "metadata": {},
   "source": [
    "## Some Orbital Mechanics\n",
    "\n",
    "Kepler's first law says: *The orbit of every planet is an ellipse with the sun at one focus*. The Semimajor axis **a** and the eccentricity **ecc** parametrize the size and shape of the ellipse. The units of **a** in our dataset are Astronomical Units (AU), the average distance between the Sun and the Earth.\n",
    "\n",
    "![Orbit Diagram](images/Orbit.jpg)\n",
    "\n",
    "For a closed elliptical orbit (orbits gravitationally bound to the Sun), $ecc = \\sqrt{1 - {b^2}/{a^2}}$, where **a** and **b** are the semimajor and semiminor axes. As you can see from the equation, when **a** = **b**, **ecc** = 0 (a circle), and when **a** $>>$ **b**, **ecc** approaches 1. When **ecc** = 1, the orbit is a parabolic orbit (just bound). When **ecc** $>$ 1 the orbit is a hyperbolic orbit (unbound).\n",
    "\n",
    "---\n",
    "\n",
    "The speed of an object on an elliptical orbit around the Sun at a distance **r** from the Sun is:\n",
    "\n",
    "$$ \\large\n",
    "v\\ =\\ \\sqrt{GM_{\\odot}\\ \\left(\\frac{2}{r} - \\frac{1}{a}\\right)}\n",
    "$$\n",
    "\n",
    "---"
   ]
  },
  {
   "cell_type": "markdown",
   "metadata": {},
   "source": [
    "## Encountering the Earth\n",
    "\n",
    "The encounter speed of an asteroid meeting the Earth at 1 AU is (assuimg aligned prograde orbits):\n",
    "\n",
    "$$ \\large\n",
    "V_{\\textrm{encounter}}\\ =\\ V_{\\textrm{asteroid at 1AU}}\\ -\\ V_{\\textrm{Earth}}\n",
    "$$\n",
    "\n",
    "Where $V_{\\textrm{Earth}}\\ =\\ 30\\ \\textrm{km/s}$\n",
    "\n",
    "## Hitting the Earth\n",
    "\n",
    "The impact speed of an asteroid hitting the Earth is:\n",
    "\n",
    "$$ \\large\n",
    "V_{\\textrm{impact}}\\ =\\ \\sqrt{V_{\\textrm{encounter}}^2 + V_{\\textrm{escape}}^2}\n",
    "$$\n",
    "\n",
    "Where $V_{\\textrm{escape}}\\ = 11.2\\ km/s$\n",
    "\n",
    "---"
   ]
  },
  {
   "cell_type": "markdown",
   "metadata": {},
   "source": [
    "## Blowing up an asteroid\n",
    "\n",
    "The self gravitational potential energy of a uniform sphere of mass (m) and diameter (d) is:\n",
    "\n",
    "$$ \\large\n",
    "PE \\ = \\ \\frac{6}{5} \\cdot \\frac{Gm^2}{d}\n",
    "$$  \n",
    "\n",
    "This is the amount of energy you need to give the sphere to move all of its components pieces infinitely far away (i.e. to destroy it!).\n",
    "\n",
    "Remember that the mass and diameter of the asteroid is derived from its absolute magnitude **H** and albedo **A**."
   ]
  }
 ],
 "metadata": {
  "kernelspec": {
   "display_name": "Python 3",
   "language": "python",
   "name": "python3"
  },
  "language_info": {
   "codemirror_mode": {
    "name": "ipython",
    "version": 3
   },
   "file_extension": ".py",
   "mimetype": "text/x-python",
   "name": "python",
   "nbconvert_exporter": "python",
   "pygments_lexer": "ipython3",
   "version": "3.6.3"
  }
 },
 "nbformat": 4,
 "nbformat_minor": 1
}
