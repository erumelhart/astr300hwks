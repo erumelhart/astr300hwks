{
 "cells": [
  {
   "cell_type": "markdown",
   "metadata": {},
   "source": [
    "## Erin Rumelhart - SymPy"
   ]
  },
  {
   "cell_type": "code",
   "execution_count": 2,
   "metadata": {},
   "outputs": [],
   "source": [
    "%matplotlib inline\n",
    "\n",
    "import numpy as np\n",
    "import matplotlib.pyplot as plt\n",
    "import sympy as sp"
   ]
  },
  {
   "cell_type": "markdown",
   "metadata": {},
   "source": [
    "$$ \\Large {\\displaystyle f(x)=3e^{-{\\frac {x^{2}}{8}}}} \\sin(x/3)$$"
   ]
  },
  {
   "cell_type": "markdown",
   "metadata": {},
   "source": [
    "* Find the first four terms of the Taylor expansion of the above equation\n",
    "* Make a plot of the function\n",
    "* Plot size 10 in x 4 in\n",
    "* X limts -5, 5\n",
    "* Y limits -2, 2\n",
    "* Over-plot the 1-term Taylor expansion using a different color\n",
    "* Over-plot the 2-term Taylor expansion using a different color\n",
    "* Over-plot the 3-term Taylor expansion using a different color\n",
    "* Over-plot the 4-term Taylor expansion using a different color"
   ]
  },
  {
   "cell_type": "code",
   "execution_count": 3,
   "metadata": {},
   "outputs": [],
   "source": [
    "sp.init_printing()\n",
    "\n",
    "x = sp.symbols('x')\n",
    "\n",
    "my_x = np.linspace(-10,10,100)"
   ]
  },
  {
   "cell_type": "code",
   "execution_count": null,
   "metadata": {},
   "outputs": [],
   "source": [
    "num_eq = np.cos(x) / ( x**2 +27)\n",
    "sym_eq = sp.cos(x) / ( x**2 +27)\n",
    "\n",
    "tay1 = my_x\n",
    "tay1\n",
    "\"\"\"\n",
    "tay2 = my_x - ((31 * (my_x ** 3)) / 216)\n",
    "tay3 = my_x - ((31 * (my_x ** 3)) / 216) + ((1591 * (my_x ** 5)) / 155520)\n",
    "tay4 = my_x - ((31 * (my_x ** 3)) / 216) + ((1591 * (my_x ** 5)) / 155520) - ((113653 * (my_x ** 7)) / 235146240)\n",
    "\n",
    "plt.style.use('seaborn')\n",
    "\n",
    "fig,ax = plt.subplots(1,1)\n",
    "fig.set_size_inches(10,4)\n",
    "\n",
    "fig.tight_layout()\n",
    "\n",
    "ax.set_ylim(-2,2)\n",
    "ax.set_xlim(-5,5)\n",
    "\n",
    "ax.set_xlabel(\"X-Axis\")\n",
    "ax.set_ylabel(\"Y-Axis\")\n",
    "ax.set_title(\"Taylor Expansions of $y\\ =\\ 3e^{{-x^2}/8} \\sin(x/3)$\")\n",
    "\n",
    "ax.plot(my_x, num_eq, color='#710096', marker='None', linestyle='-', linewidth=3);\n",
    "ax.plot(my_x, tay1, color='#a91ad8', marker='None', linestyle='--', linewidth=3);\n",
    "ax.plot(my_x, tay2, color='#c34bea', marker='None', linestyle='-.', linewidth=3);\n",
    "ax.plot(my_x, tay3, color='#df8ef9', marker='None', linestyle='--', linewidth=3);\n",
    "ax.plot(my_x, tay4, color='#edbcff', marker='None', linestyle='-', linewidth=3);\n",
    "\"\"\""
   ]
  },
  {
   "cell_type": "markdown",
   "metadata": {},
   "source": [
    "### Due Wed Nov 29 - Noon\n",
    "\n",
    "- `Make sure to change the filename to your name!`\n",
    "- `Make sure to change the Title to your name!`\n",
    "- `File -> Download as -> HTML (.html)`\n",
    "- `upload your .html and .ipynb file to the class Canvas page`  "
   ]
  },
  {
   "cell_type": "code",
   "execution_count": null,
   "metadata": {},
   "outputs": [],
   "source": []
  }
 ],
 "metadata": {
  "anaconda-cloud": {},
  "kernelspec": {
   "display_name": "Python 3",
   "language": "python",
   "name": "python3"
  },
  "language_info": {
   "codemirror_mode": {
    "name": "ipython",
    "version": 3
   },
   "file_extension": ".py",
   "mimetype": "text/x-python",
   "name": "python",
   "nbconvert_exporter": "python",
   "pygments_lexer": "ipython3",
   "version": "3.6.3"
  }
 },
 "nbformat": 4,
 "nbformat_minor": 1
}
