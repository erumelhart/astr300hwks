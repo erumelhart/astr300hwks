{
 "cells": [
  {
   "cell_type": "markdown",
   "metadata": {},
   "source": [
    "## Erin Rumelhart - Reading Data"
   ]
  },
  {
   "cell_type": "code",
   "execution_count": 1,
   "metadata": {},
   "outputs": [],
   "source": [
    "import numpy as np\n",
    "import pandas as pd"
   ]
  },
  {
   "cell_type": "markdown",
   "metadata": {},
   "source": [
    "### Read in the datafile `MainBelt.csv`"
   ]
  },
  {
   "cell_type": "code",
   "execution_count": 2,
   "metadata": {
    "scrolled": true
   },
   "outputs": [],
   "source": [
    "cols = [\"Name\", \"Abs Mag\", \"Geo Alb\"]\n",
    "mb_table = pd.read_csv('MainBelt.csv', skiprows = 9, names = cols)"
   ]
  },
  {
   "cell_type": "markdown",
   "metadata": {},
   "source": [
    "### Write a function to compute the Diameters of the MBAs\n",
    " * The largest asteroid should be D ~ 1000 km"
   ]
  },
  {
   "cell_type": "code",
   "execution_count": 3,
   "metadata": {},
   "outputs": [],
   "source": [
    "ga = mb_table['Geo Alb']\n",
    "am = mb_table['Abs Mag']\n",
    "\n",
    "def diameter(ga, am):\n",
    "    d_result = (1329 / np.sqrt(ga)) * (10**(-0.2*am))\n",
    "    return d_result\n",
    "\n",
    "mb_table['Diameter'] = diameter(ga, am)"
   ]
  },
  {
   "cell_type": "markdown",
   "metadata": {},
   "source": [
    "### Write a function to compute the Masses of the MBAs. Assume $\\rho$ = 3,000 kg/m$^3$\n",
    "* The most massive asteroid should be M ~ 1e21 kg"
   ]
  },
  {
   "cell_type": "code",
   "execution_count": 50,
   "metadata": {
    "scrolled": true
   },
   "outputs": [],
   "source": [
    "diam = diameter(ga, am)\n",
    "\n",
    "def mass(diam):\n",
    "    m_result = (3000e9 * (1/6) * np.pi * diam**3)\n",
    "    return m_result\n",
    "\n",
    "mb_table['Mass'] = mass(diam)"
   ]
  },
  {
   "cell_type": "markdown",
   "metadata": {},
   "source": [
    "### List the names of the 5 most massive MBAs"
   ]
  },
  {
   "cell_type": "code",
   "execution_count": 73,
   "metadata": {},
   "outputs": [
    {
     "name": "stdout",
     "output_type": "stream",
     "text": [
      "                        Name  Abs Mag  Geo Alb    Diameter          Mass\n",
      "0                    1 Ceres     3.34   0.0900  951.488900  1.353104e+21\n",
      "1                   2 Pallas     4.13   0.1587  498.008227  1.940124e+20\n",
      "3                    4 Vesta     3.20   0.4228  468.228119  1.612473e+20\n",
      "9                  10 Hygiea     5.43   0.0717  407.160279  1.060269e+20\n",
      "445     511 Davida (1903 LU)     6.22   0.0540  326.082957  5.446333e+19\n"
     ]
    }
   ],
   "source": [
    "mass_array = mb_table['Mass']\n",
    "big_mass = mass_array > 5 * 10**19\n",
    "\n",
    "print(mb_table[big_mass])"
   ]
  },
  {
   "cell_type": "markdown",
   "metadata": {},
   "source": [
    "### List the names of the 5 least massive MBAs"
   ]
  },
  {
   "cell_type": "code",
   "execution_count": 74,
   "metadata": {},
   "outputs": [
    {
     "name": "stdout",
     "output_type": "stream",
     "text": [
      "                           Name  Abs Mag  Geo Alb  Diameter          Mass\n",
      "1492    3338 Richter (1973 UX5)     14.2   0.1000  6.074702  3.521233e+14\n",
      "1597      4121 Carlin (1986 JH)     12.6   0.4164  6.219703  3.779451e+14\n",
      "1630     4335 Verona (1983 VC7)     13.3   0.2418  5.912850  3.247210e+14\n",
      "1774    6295 Schmoll (1988 CF3)     14.0   0.1114  6.310770  3.947908e+14\n",
      "2024          26604 (2000 FO25)     12.8   0.4331  5.561999  2.702791e+14\n"
     ]
    }
   ],
   "source": [
    "small_mass = mass_array < 4 * 10**14\n",
    "\n",
    "print(mb_table[small_mass])"
   ]
  },
  {
   "cell_type": "markdown",
   "metadata": {},
   "source": [
    "### Determine the total mass of all of the MBAs"
   ]
  },
  {
   "cell_type": "code",
   "execution_count": 62,
   "metadata": {},
   "outputs": [
    {
     "name": "stdout",
     "output_type": "stream",
     "text": [
      "3.14617762545e+21\n"
     ]
    }
   ],
   "source": [
    "total_mass = mass_array.sum()\n",
    "\n",
    "print(total_mass)"
   ]
  },
  {
   "cell_type": "markdown",
   "metadata": {},
   "source": [
    "### Determine the fraction of the total mass contained in the 5 largest MBAs"
   ]
  },
  {
   "cell_type": "code",
   "execution_count": 76,
   "metadata": {},
   "outputs": [
    {
     "data": {
      "text/plain": [
       "0.59400762222979508"
      ]
     },
     "execution_count": 76,
     "metadata": {},
     "output_type": "execute_result"
    }
   ],
   "source": [
    "big_mass_total = mb_table.sort_values(['Mass'], ascending=False)['Mass'][0:5].sum()\n",
    "big_mass_total / total_mass"
   ]
  },
  {
   "cell_type": "markdown",
   "metadata": {},
   "source": [
    "### How does the total mass of the MBAs compare to the mass of the Moon ($7.35\\ \\times\\ 10^{22}$ kg)?"
   ]
  },
  {
   "cell_type": "code",
   "execution_count": 75,
   "metadata": {},
   "outputs": [
    {
     "data": {
      "text/plain": [
       "0.042805137761245678"
      ]
     },
     "execution_count": 75,
     "metadata": {},
     "output_type": "execute_result"
    }
   ],
   "source": [
    "(total_mass / (7.35 * 10**22))"
   ]
  },
  {
   "cell_type": "markdown",
   "metadata": {},
   "source": [
    "### How many MBAs does it take to get 90% of the total mass of the MBAs (start from the most massive)"
   ]
  },
  {
   "cell_type": "code",
   "execution_count": 81,
   "metadata": {},
   "outputs": [
    {
     "data": {
      "text/plain": [
       "149"
      ]
     },
     "execution_count": 81,
     "metadata": {},
     "output_type": "execute_result"
    }
   ],
   "source": [
    "ninety_percent_mass = (mb_table.sort_values(['Mass'], ascending=False)['Mass'].cumsum()) / total_mass\n",
    "\n",
    "how_big = ninety_percent_mass <= 0.9\n",
    "\n",
    "ninety_percent_mass[how_big].size"
   ]
  },
  {
   "cell_type": "markdown",
   "metadata": {},
   "source": [
    "### Due Tue Oct 17 - 5pm\n",
    "- `Make sure to change the filename to your name!`\n",
    "- `Make sure to change the Title to your name!`\n",
    "- `File -> Download as -> HTML (.html)`\n",
    "- `upload your .html and .ipynb file to the class Canvas page`  "
   ]
  },
  {
   "cell_type": "markdown",
   "metadata": {},
   "source": [
    "***\n",
    "\n",
    "## Absolute Magnitude, Size and Mass\n",
    "\n",
    "The absolute magnitude **H** of a solar system object is the magnitude that it would have if it was 1 AU from the Earth and 1 AU from the Sun while having a phase angle of 0 degrees. Remember, astronomical magnitudes are \"backwards\".  The magnitude of a bright object is *less* than the magnitude of a dimmer object.\n",
    "\n",
    "The phase angle **$\\theta$** in astronomical observations is the angle between the light incident onto an observed object and the light reflected from the object. In the context of astronomical observations, this is usually the angle $\\angle$ Sun-object-observer.\n",
    "\n",
    "![Phase Angle](images/Phase.jpg)\n",
    "\n",
    "It is actually impossible for an object to be 1 AU from the Earth and 1 AU from the Sun while having a phase angle of 0 degrees. The Sun and the Earth would occupy the same point.  However, this is the definition of **H**.  Please note, that the definition of absolute magnitude for solar system objects is *very* different from the definition of absolute magnitude used for stars.\n",
    "\n",
    "The Absolute magnitude of an object is related to the physical size of the object via the equation:\n",
    "\n",
    "$$\\large D\\ (\\textrm{in km}) = \\frac{1329}{\\sqrt{A}}\\  10^{-0.2H}$$\n",
    "\n",
    "Where **D** is the diameter of the object in kilometers and **A** is the geometric albedo of the object. \n",
    "\n",
    "The geometric albedo **A** of an astronomical body is the ratio of its actual brightness at zero phase angle (i.e., as seen from the light source) to that of an idealized flat, fully reflecting, diffusively scattering disk with the same cross-section.\n",
    "\n",
    "Perfect reflectors of light have A = 1 and perfect absorbers have **A** = 0. Typical asteroids have a wide range of values: 0.02 $<$ A $<$ 0.8.\n",
    "\n",
    "Once we have the diameter of the object, we can determine the mass if we know the density ($\\rho$).\n",
    "\n",
    "$ \\large \\mathrm{Mass} = \\rho \\cdot \\mathrm{Volume} = \\rho \\cdot \\frac{4}{3} \\pi r^3 \\ = \\ \\rho \\cdot \\frac{1}{6} \\pi D^3 $\n",
    "\n",
    "This assumes that the object is spherical (this is **not** a very good assumption for asteroids)."
   ]
  },
  {
   "cell_type": "code",
   "execution_count": null,
   "metadata": {
    "collapsed": true
   },
   "outputs": [],
   "source": []
  },
  {
   "cell_type": "code",
   "execution_count": null,
   "metadata": {
    "collapsed": true
   },
   "outputs": [],
   "source": []
  }
 ],
 "metadata": {
  "anaconda-cloud": {},
  "kernelspec": {
   "display_name": "Python 3",
   "language": "python",
   "name": "python3"
  },
  "language_info": {
   "codemirror_mode": {
    "name": "ipython",
    "version": 3
   },
   "file_extension": ".py",
   "mimetype": "text/x-python",
   "name": "python",
   "nbconvert_exporter": "python",
   "pygments_lexer": "ipython3",
   "version": "3.6.3"
  }
 },
 "nbformat": 4,
 "nbformat_minor": 1
}
