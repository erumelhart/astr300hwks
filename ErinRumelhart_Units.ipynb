{
 "cells": [
  {
   "cell_type": "markdown",
   "metadata": {},
   "source": [
    "# Erin Rumelhart - Units in Python"
   ]
  },
  {
   "cell_type": "markdown",
   "metadata": {},
   "source": [
    "* Use the `Astropy` units and constants packages to solve the following problems.\n",
    "* Do not hardcode any constants!\n",
    "* Unless asked, your units should be in the simplest SI units possible.\n",
    "* Your answers should be as sentences. For example:\n",
    "  * `The impuse would be VALUE UNITS.`"
   ]
  },
  {
   "cell_type": "code",
   "execution_count": 130,
   "metadata": {},
   "outputs": [
    {
     "data": {
      "text/plain": [
       "<function astropy.units.cds.enable>"
      ]
     },
     "execution_count": 130,
     "metadata": {},
     "output_type": "execute_result"
    }
   ],
   "source": [
    "import numpy as np\n",
    "\n",
    "from astropy import units as u\n",
    "from astropy import constants as const\n",
    "from astropy.units import imperial\n",
    "imperial.enable()\n",
    "from astropy.units import cds\n",
    "cds.enable"
   ]
  },
  {
   "cell_type": "markdown",
   "metadata": {},
   "source": [
    "### Impulse is a change in momentum\n",
    "\n",
    "$$ I = \\Delta\\ p\\ =\\ m\\Delta v $$"
   ]
  },
  {
   "cell_type": "markdown",
   "metadata": {},
   "source": [
    "**Problem 1** - Calculate the $\\Delta$v that would be the result of an impuse of 700 (N * s) for M = 338 kg."
   ]
  },
  {
   "cell_type": "code",
   "execution_count": 131,
   "metadata": {},
   "outputs": [
    {
     "name": "stdout",
     "output_type": "stream",
     "text": [
      "The change in velocity is 2.07101 m / s.\n"
     ]
    }
   ],
   "source": [
    "answer = ((700 * u.N * u.s) / (338 * u.kg)).decompose()\n",
    "string = (\"The change in velocity is {0:g}.\").format(answer)\n",
    "print(string)"
   ]
  },
  {
   "cell_type": "markdown",
   "metadata": {},
   "source": [
    "**Problem 2** - Calculate the $\\Delta$v that would be the result of an impuse of 700 (lbf * s) for M = 338 kg."
   ]
  },
  {
   "cell_type": "code",
   "execution_count": 132,
   "metadata": {},
   "outputs": [
    {
     "name": "stdout",
     "output_type": "stream",
     "text": [
      "The change in velocity is 9.21229 m / s.\n"
     ]
    }
   ],
   "source": [
    "answer = ((700 * imperial.lbf * u.s) / (338 * u.kg)).decompose()\n",
    "string = (\"The change in velocity is {0:g}.\").format(answer)\n",
    "print(string)"
   ]
  },
  {
   "cell_type": "markdown",
   "metadata": {},
   "source": [
    "This is the unit conversion error that doomed the [Mars Climate Orbiter](https://en.wikipedia.org/wiki/Mars_Climate_Orbiter)"
   ]
  },
  {
   "cell_type": "markdown",
   "metadata": {},
   "source": [
    "### The range of a projectile launched with a velocity (v) at and angle ($\\theta$) is\n",
    "\n",
    "$$R\\ =\\  {v^2 \\over g}\\ sin(2\\theta)$$"
   ]
  },
  {
   "cell_type": "markdown",
   "metadata": {},
   "source": [
    "**Problem 3** - Find R for v = 123 mph and $\\theta$ = 1000 arc minutes"
   ]
  },
  {
   "cell_type": "code",
   "execution_count": 133,
   "metadata": {},
   "outputs": [
    {
     "name": "stdout",
     "output_type": "stream",
     "text": [
      "The range is 169.532 m.\n"
     ]
    }
   ],
   "source": [
    "answer = (((123 * (imperial.mi / u.h))**2 / (9.8 * (u.m / u.s**2))) * np.sin(2 * (1000 * u.arcmin))).decompose()\n",
    "string = (\"The range is {0:g}.\").format(answer)\n",
    "print(string)"
   ]
  },
  {
   "cell_type": "markdown",
   "metadata": {},
   "source": [
    "**Problem 4** - How fast to you have to throw a football at 33.3 degrees so that is goes exactly 100 yards? Express your answer in mph"
   ]
  },
  {
   "cell_type": "code",
   "execution_count": 134,
   "metadata": {},
   "outputs": [
    {
     "name": "stdout",
     "output_type": "stream",
     "text": [
      "The velocity is 69.8991 mi / h.\n"
     ]
    }
   ],
   "source": [
    "answer = np.sqrt(((100 * imperial.yd) * (9.8 * (u.m / u.s**2))) / np.sin(2 * (33.3 * u.deg))).to(imperial.mi / u.hr)\n",
    "string = (\"The velocity is {0:g}.\").format(answer)\n",
    "print(string)"
   ]
  },
  {
   "cell_type": "markdown",
   "metadata": {},
   "source": [
    "### Kepler's third law can be expressed as:\n",
    "\n",
    "$$ T^2 = \\left( {{4\\pi^2} \\over {GM}} \\right)\\ r^3 $$\n",
    "\n",
    "Where **T** is the orbial period of an object at distance (**r**) from the center of an object of mass (**M**).\n",
    "\n",
    "It assumes the mass of the orbiting object is small compared to the mass of the central object."
   ]
  },
  {
   "cell_type": "markdown",
   "metadata": {},
   "source": [
    "**Problem 5** - Calculate the orbital period of International Space Station (ISS). ISS orbits 254 miles above the **surface** of the Earth. Expess your answer in minutes."
   ]
  },
  {
   "cell_type": "code",
   "execution_count": 135,
   "metadata": {},
   "outputs": [
    {
     "name": "stdout",
     "output_type": "stream",
     "text": [
      "The orbital period is 92.7394 min.\n"
     ]
    }
   ],
   "source": [
    "answer = np.sqrt(((4 * np.pi**2) / (const.G * const.M_earth)) * ((254 * imperial.mi) + const.R_earth)**3).to(u.min)\n",
    "string = (\"The orbital period is {0:g}.\").format(answer)\n",
    "print(string)"
   ]
  },
  {
   "cell_type": "markdown",
   "metadata": {},
   "source": [
    "** Problem 6 ** - An exoplanet orbits the star Epsilon Tauri in 595 days at a distance of 1.93 AU. Calculate the mass of Epsilon Tauri in terms of solar masses."
   ]
  },
  {
   "cell_type": "code",
   "execution_count": 136,
   "metadata": {},
   "outputs": [
    {
     "name": "stdout",
     "output_type": "stream",
     "text": [
      "The mass is 2.70916 solMass.\n"
     ]
    }
   ],
   "source": [
    "answer = (((1.93 * u.AU)**3 * (4 * np.pi**2)) / ((595 * u.day)**2 * const.G)).to(u.M_sun)\n",
    "string = (\"The mass is {0:g}.\").format(answer)\n",
    "print(string)"
   ]
  },
  {
   "cell_type": "markdown",
   "metadata": {},
   "source": [
    "### The velocity of an object in orbit is\n",
    "\n",
    "$$ v=\\sqrt{GM\\over r} $$\n",
    "\n",
    "Where the object is at a distance (**r**) around a central object of mass (**M**)."
   ]
  },
  {
   "cell_type": "markdown",
   "metadata": {},
   "source": [
    "**Problem 7** - Calculate the velocity of ISS. Expess your answer in km/s and mph."
   ]
  },
  {
   "cell_type": "code",
   "execution_count": 137,
   "metadata": {},
   "outputs": [
    {
     "name": "stdout",
     "output_type": "stream",
     "text": [
      "The velocity is 7.66362 km / s, or 17143 mi / h.\n"
     ]
    }
   ],
   "source": [
    "answer = np.sqrt((const.G * const.M_earth) / ((254 * imperial.mi) + const.R_earth)).to(u.km / u.s)\n",
    "answer_imp = answer.to(imperial.mi / u.hr)\n",
    "string = (\"The velocity is {0:g}, or {1:g}.\").format(answer, answer_imp)\n",
    "print(string)"
   ]
  },
  {
   "cell_type": "markdown",
   "metadata": {},
   "source": [
    "**Problem 8** - The Procliamer's song [500 miles](https://youtu.be/MJuyn0WAYNI?t=27s) has a duration of 3 minutes and 33 seconds. Calculate at what altitude, above the Earth's surface, you would have to orbit to go 1000 miles in this time. Express your answer in units of the alititude of the ISS."
   ]
  },
  {
   "cell_type": "code",
   "execution_count": 138,
   "metadata": {},
   "outputs": [
    {
     "name": "stdout",
     "output_type": "stream",
     "text": [
      "The altitude is 1.47811 ISS altitudes.\n"
     ]
    }
   ],
   "source": [
    "iss_alt = u.def_unit('ISS altitudes', 254 * imperial.mi)\n",
    "answer = (((const.G * const.M_earth) / ((1000 * imperial.mi) / (213 * u.s))**2) - const.R_earth).to(iss_alt)\n",
    "string = (\"The altitude is {0:g}.\").format(answer)\n",
    "print(string)"
   ]
  },
  {
   "cell_type": "markdown",
   "metadata": {},
   "source": [
    "### The Power being received by a solar panel in space can be expressed as:\n",
    "\n",
    "$$ I\\  =\\ {{L_{\\odot}} \\over {4 \\pi d^2}}\\ \\varepsilon$$\n",
    "\n",
    "Where **I** is the power **per unit area** at a distance (**d**) from the Sun, and $\\varepsilon$ is the efficiency of the solar panel.\n",
    "\n",
    "The solar panels that power spacecraft have an efficiency of about 40%."
   ]
  },
  {
   "cell_type": "markdown",
   "metadata": {},
   "source": [
    "** Problem 9 ** -  The [New Horizons](http://pluto.jhuapl.edu/) spacecraft requires 220 Watts of power.\n",
    "\n",
    "Calculate the area of a solar panel that would be needed to power New Horizons at a distance of 1 AU from the Sun."
   ]
  },
  {
   "cell_type": "code",
   "execution_count": 139,
   "metadata": {},
   "outputs": [
    {
     "name": "stdout",
     "output_type": "stream",
     "text": [
      "The area is 0.404065 m2.\n"
     ]
    }
   ],
   "source": [
    "answer = ((220 * u.watt) / ((const.L_sun / (4 * np.pi * (1 * u.AU)**2)) * 0.4)).decompose()\n",
    "string = (\"The area is {0:g}.\").format(answer)\n",
    "print(string)"
   ]
  },
  {
   "cell_type": "markdown",
   "metadata": {},
   "source": [
    "** Problem 10 ** - Express your answer in units of the area of a piece of US letter sized paper (8.5 in x 11 in)."
   ]
  },
  {
   "cell_type": "code",
   "execution_count": 140,
   "metadata": {},
   "outputs": [
    {
     "name": "stdout",
     "output_type": "stream",
     "text": [
      "The area is 6.69842 letter sized papers.\n"
     ]
    }
   ],
   "source": [
    "letter_paper = u.def_unit('letter sized papers', ((8.5 * imperial.inch) * (11 * imperial.inch)))\n",
    "paper_answer = answer.to(letter_paper)\n",
    "string = (\"The area is {0:g}.\").format(paper_answer)\n",
    "print(string)"
   ]
  },
  {
   "cell_type": "markdown",
   "metadata": {},
   "source": [
    "** Problem 11 ** - Same question as above but now a d = 30 AU.\n",
    "\n",
    "Express you answer in both sq meters and US letter sized paper"
   ]
  },
  {
   "cell_type": "code",
   "execution_count": 141,
   "metadata": {},
   "outputs": [
    {
     "name": "stdout",
     "output_type": "stream",
     "text": [
      "The area is 363.659 m2, or 6028.58 letter sized papers.\n"
     ]
    }
   ],
   "source": [
    "m_answer = ((220 * u.watt) / ((const.L_sun / (4 * np.pi * (30 * u.AU)**2)) * 0.4)).decompose()\n",
    "p_answer = m_answer.to(letter_paper)\n",
    "string = (\"The area is {0:g}, or {1:g}.\").format(m_answer, p_answer)\n",
    "print(string)"
   ]
  },
  {
   "cell_type": "markdown",
   "metadata": {},
   "source": [
    "** Problem 12 ** - The main part of the Oort cloud is thought to be at a distance of about 10,000 AU.\n",
    "\n",
    "Calculate the size of the solar panel New Horizons would need to operate in the Oort cloud.\n",
    "\n",
    "Express your answer in units of the area of an American football field (120 yd x 53.3 yd)."
   ]
  },
  {
   "cell_type": "code",
   "execution_count": 142,
   "metadata": {},
   "outputs": [
    {
     "name": "stdout",
     "output_type": "stream",
     "text": [
      "The area is 7555.63 American football fields.\n"
     ]
    }
   ],
   "source": [
    "football_field = u.def_unit('American football fields', ((120 * imperial.yd) * (53.3 * imperial.yd)))\n",
    "answer = ((220 * u.watt) / ((const.L_sun / (4 * np.pi * (10000 * u.AU)**2)) * 0.4)).to(football_field)\n",
    "string = (\"The area is {0:g}.\").format(answer)\n",
    "print(string)"
   ]
  },
  {
   "cell_type": "markdown",
   "metadata": {},
   "source": [
    "** Problem 13 ** - Calculate the maximum distance from the Sun where a solar panel of 1 football field can power the New Horizons spacecraft. Express your answer in AU."
   ]
  },
  {
   "cell_type": "code",
   "execution_count": 143,
   "metadata": {},
   "outputs": [
    {
     "name": "stdout",
     "output_type": "stream",
     "text": [
      "The distance is 115.044 AU.\n"
     ]
    }
   ],
   "source": [
    "answer = np.sqrt(((1 * football_field) * const.L_sun * 0.4) / ((220 * u.watt) * np.pi * 4)).to(u.AU)\n",
    "string = (\"The distance is {0:g}.\").format(answer)\n",
    "print(string)"
   ]
  },
  {
   "cell_type": "markdown",
   "metadata": {},
   "source": [
    "### Due Tues Oct 24 - 5pm\n",
    "- `Make sure to change the filename to your name!`\n",
    "- `Make sure to change the Title to your name!`\n",
    "- `File -> Download as -> HTML (.html)`\n",
    "- `upload your .html and .ipynb file to the class Canvas page`  "
   ]
  }
 ],
 "metadata": {
  "kernelspec": {
   "display_name": "Python 3",
   "language": "python",
   "name": "python3"
  },
  "language_info": {
   "codemirror_mode": {
    "name": "ipython",
    "version": 3
   },
   "file_extension": ".py",
   "mimetype": "text/x-python",
   "name": "python",
   "nbconvert_exporter": "python",
   "pygments_lexer": "ipython3",
   "version": "3.6.3"
  }
 },
 "nbformat": 4,
 "nbformat_minor": 1
}
