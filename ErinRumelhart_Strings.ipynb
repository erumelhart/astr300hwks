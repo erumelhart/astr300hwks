{
 "cells": [
  {
   "cell_type": "markdown",
   "metadata": {},
   "source": [
    "## Erin Rumelhart - Strings"
   ]
  },
  {
   "cell_type": "code",
   "execution_count": 48,
   "metadata": {
    "collapsed": true
   },
   "outputs": [],
   "source": [
    "import numpy as np\n",
    "import pandas as pd\n",
    "import os"
   ]
  },
  {
   "cell_type": "markdown",
   "metadata": {},
   "source": [
    "### Read in the datafile `MainBelt.csv`, write a function to compute the Diameters of the MBAs, write a function to compute the Masses of the MBAs."
   ]
  },
  {
   "cell_type": "code",
   "execution_count": 49,
   "metadata": {
    "collapsed": true,
    "scrolled": true
   },
   "outputs": [],
   "source": [
    "cols = [\"Name\", \"Abs Mag\", \"Geo Alb\"]\n",
    "mb_table = pd.read_csv('MainBelt.csv', skiprows = 9, names = cols) ## Reads table into pandas\n",
    "\n",
    "ga = mb_table['Geo Alb']\n",
    "am = mb_table['Abs Mag'] ## Establishing variable names for later computation\n",
    "\n",
    "def diameter(ga, am):\n",
    "    d_result = (1329 / np.sqrt(ga)) * (10**(-0.2*am))\n",
    "    return d_result ## Function to compute diameter of the MBAs\n",
    "\n",
    "mb_table['Diameter'] = diameter(ga, am) ## Adding a column to the table for the Diameter values\n",
    "\n",
    "diam = diameter(ga, am) ## Establishing diameter as a variable\n",
    "\n",
    "def mass(diam):\n",
    "    m_result = (3000e9 * (1/6) * np.pi * diam**3)\n",
    "    return m_result ## Function to compute mass of the MBAs\n",
    "\n",
    "mb_table['Mass'] = mass(diam) ## Establishing mass as a variable"
   ]
  },
  {
   "cell_type": "markdown",
   "metadata": {},
   "source": [
    "### List the names of the 5 most massive MBAs"
   ]
  },
  {
   "cell_type": "code",
   "execution_count": 50,
   "metadata": {},
   "outputs": [
    {
     "name": "stdout",
     "output_type": "stream",
     "text": [
      "The 5 largest asteroids are (starting with the largest):\n",
      "At number 0 is      1 Ceres with a mass of 1.4e+21 kg\n",
      "At number 1 is      2 Pallas with a mass of 1.9e+20 kg\n",
      "At number 2 is      4 Vesta with a mass of 1.6e+20 kg\n",
      "At number 3 is     10 Hygiea with a mass of 1.1e+20 kg\n",
      "At number 4 is    511 Davida (1903 LU) with a mass of 5.4e+19 kg\n"
     ]
    }
   ],
   "source": [
    "mass_array = mb_table['Mass']\n",
    "big_mass = mass_array > 5 * 10**19\n",
    "big_mass_array = mb_table[big_mass]\n",
    "big_mass_array_sorted = big_mass_array.sort_values(['Mass'], ascending=False) ## Sorting highest mass MBAs into a new array\n",
    "big_mass_array_sorted.to_csv('big_mass_table.csv', index=False) ## Inserting sorted values into a new table data file\n",
    "big_mass_table = pd.read_csv('big_mass_table.csv')\n",
    "\n",
    "print(\"The 5 largest asteroids are (starting with the largest):\")\n",
    "\n",
    "for idx, val in enumerate(big_mass_table['Name']): ## Beginning of for loop to print values in a specified format\n",
    "    \n",
    "    mass_kg = big_mass_table['Mass'][idx]\n",
    "        \n",
    "    big_string = (\"At number {0:d} is {1:s} with a mass of {2:.2g} kg\").format(idx, val, mass_kg)\n",
    "    \n",
    "    print(big_string)   "
   ]
  },
  {
   "cell_type": "markdown",
   "metadata": {},
   "source": [
    "### List the names of the 5 least massive MBAs"
   ]
  },
  {
   "cell_type": "code",
   "execution_count": 51,
   "metadata": {},
   "outputs": [
    {
     "name": "stdout",
     "output_type": "stream",
     "text": [
      "The 5 smallest asteroids are (starting with the smallest):\n",
      "At number 0 is  26604 (2000 FO25) with a mass of 2.7e+14 kg\n",
      "At number 1 is   4335 Verona (1983 VC7) with a mass of 3.2e+14 kg\n",
      "At number 2 is   3338 Richter (1973 UX5) with a mass of 3.5e+14 kg\n",
      "At number 3 is   4121 Carlin (1986 JH) with a mass of 3.8e+14 kg\n",
      "At number 4 is   6295 Schmoll (1988 CF3) with a mass of 3.9e+14 kg\n"
     ]
    }
   ],
   "source": [
    "small_mass = mass_array < 4 * 10**14\n",
    "small_mass_array = mb_table[small_mass]\n",
    "small_mass_array_sorted = small_mass_array.sort_values(['Mass'], ascending=True) ## Sorting lowest mass MBAs into a new array\n",
    "small_mass_array_sorted.to_csv('small_mass_table.csv', index=False) ## Inserting sorted values into a new table data file\n",
    "small_mass_table = pd.read_csv('small_mass_table.csv')\n",
    "\n",
    "print(\"The 5 smallest asteroids are (starting with the smallest):\")\n",
    "\n",
    "for idx, val in enumerate(small_mass_table['Name']): ## Beginning of for loop to print values in a specified format\n",
    "    \n",
    "    mass_kg = small_mass_table['Mass'][idx]\n",
    "        \n",
    "    small_string = (\"At number {0:d} is {1:s} with a mass of {2:.2g} kg\").format(idx, val, mass_kg)\n",
    "    \n",
    "    print(small_string)"
   ]
  },
  {
   "cell_type": "markdown",
   "metadata": {},
   "source": [
    "### Determine the total mass of all of the MBAs, the fraction of the total mass contained into the 5 largest MBAs, the total mass of the MBAs compared to the mass of the Moon, how many MBAs it takes to get 90% of the total mass."
   ]
  },
  {
   "cell_type": "code",
   "execution_count": 52,
   "metadata": {},
   "outputs": [],
   "source": [
    "total_mass = mass_array.sum() ## Establishing the total mass of the MBAs as a variable\n",
    "\n",
    "big_mass_total = mb_table.sort_values(['Mass'], ascending=False)['Mass'][0:5].sum()\n",
    "big_mass_percent = big_mass_total / total_mass ## Computing the percent of largest MBAs\n",
    "\n",
    "moon_percent = ((7.35 * 10**22) / total_mass) ## The number of times the mass of the moon is greater than the total MBAs mass\n",
    "\n",
    "ninety_percent_mass = (mb_table.sort_values(['Mass'], ascending=False)['Mass'].cumsum()) / total_mass\n",
    "how_big = ninety_percent_mass <= 0.9\n",
    "num_ninety_mass = ninety_percent_mass[how_big].size ## Computing 90% of the total mass"
   ]
  },
  {
   "cell_type": "markdown",
   "metadata": {},
   "source": [
    "### The Summary Paragraph"
   ]
  },
  {
   "cell_type": "code",
   "execution_count": 53,
   "metadata": {},
   "outputs": [
    {
     "name": "stdout",
     "output_type": "stream",
     "text": [
      "The total mass of the main belt of the asteroid belt is 3.1e+21 kg, of which 0.59% of\n",
      "the total mass in contained in the five most massive asteroids. In fact, the 1.5e+02 largest\n",
      "asteroids account for 90% of the total mass of the main belt. The Moon is 23\n",
      "times more\n",
      "massive than the total mass of the main belt asteroids.\n"
     ]
    }
   ],
   "source": [
    "summary_string = (\"\"\"The total mass of the main belt of the asteroid belt is {0:.2g} kg, of which {1:.2g}% of\n",
    "the total mass in contained in the five most massive asteroids. In fact, the {2:.2g} largest\n",
    "asteroids account for 90% of the total mass of the main belt. The Moon is {3:.2g}\n",
    "times more\n",
    "massive than the total mass of the main belt asteroids.\"\"\").format(total_mass, big_mass_percent, num_ninety_mass, moon_percent)\n",
    "\n",
    "print(summary_string)"
   ]
  },
  {
   "cell_type": "code",
   "execution_count": null,
   "metadata": {
    "collapsed": true
   },
   "outputs": [],
   "source": []
  }
 ],
 "metadata": {
  "anaconda-cloud": {},
  "kernelspec": {
   "display_name": "Python 3",
   "language": "python",
   "name": "python3"
  },
  "language_info": {
   "codemirror_mode": {
    "name": "ipython",
    "version": 3
   },
   "file_extension": ".py",
   "mimetype": "text/x-python",
   "name": "python",
   "nbconvert_exporter": "python",
   "pygments_lexer": "ipython3",
   "version": "3.6.3"
  }
 },
 "nbformat": 4,
 "nbformat_minor": 1
}
